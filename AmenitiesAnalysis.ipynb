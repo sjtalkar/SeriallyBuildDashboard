{
 "cells": [
  {
   "cell_type": "code",
   "execution_count": 1,
   "metadata": {},
   "outputs": [],
   "source": [
    "from nltk.tokenize import sent_tokenize as st\n",
    "from nltk.tokenize import regexp_tokenize as rt\n",
    "from nltk.tokenize import TweetTokenizer as tt\n",
    "import pandas as pd\n",
    "from wordcloud import WordCloud, STOPWORDS, ImageColorGenerator\n",
    "from PIL import Image\n",
    "import matplotlib.pyplot as plt\n",
    "\n",
    "import numpy as np\n",
    "import plotly.graph_objects as go\n",
    "\n",
    "#https://towardsdatascience.com/named-entity-recognition-with-nltk-and-spacy-8c4a7d88e7da\n",
    "#https://towardsdatascience.com/natural-language-processing-for-consumer-satisfaction-in-python-e2b6d473efd1\n"
   ]
  },
  {
   "cell_type": "markdown",
   "metadata": {},
   "source": [
    "### From DataCamp\n",
    "#### Tokenize and print all words in german_text\n",
    "all_words = word_tokenize(german_text)\n",
    "print(all_words)\n",
    "\n",
    "#### Tokenize and print only capital words\n",
    "capital_words = r\"[A-Z|\\U000000DC]\\w+\"\n",
    "print(regexp_tokenize(german_text, capital_words))\n",
    "\n",
    "##### Tokenize and print only emoji\n",
    "emoji = \"['\\U0001F300-\\U0001F5FF'|'\\U0001F600-\\U0001F64F'|'\\U0001F680-\\U0001F6FF'|'\\u2600-\\u26FF\\u2700-\\u27BF']\"\n",
    "print(regexp_tokenize(german_text, emoji))"
   ]
  },
  {
   "cell_type": "code",
   "execution_count": 2,
   "metadata": {},
   "outputs": [],
   "source": [
    "from nltk.tokenize import regexp_tokenize\n"
   ]
  },
  {
   "cell_type": "code",
   "execution_count": 3,
   "metadata": {},
   "outputs": [],
   "source": [
    "def getAmenitiesTokens(cell_val):\n",
    "    return regexp_tokenize(cell_val, \"([\\w\\s\\d\\']+), \")\n"
   ]
  },
  {
   "cell_type": "code",
   "execution_count": 4,
   "metadata": {},
   "outputs": [],
   "source": [
    "amenities_df = pd.read_csv(r\"data/listings_onlyamenities.csv\")"
   ]
  },
  {
   "cell_type": "code",
   "execution_count": 5,
   "metadata": {
    "scrolled": true
   },
   "outputs": [
    {
     "data": {
      "text/html": [
       "<div>\n",
       "<style scoped>\n",
       "    .dataframe tbody tr th:only-of-type {\n",
       "        vertical-align: middle;\n",
       "    }\n",
       "\n",
       "    .dataframe tbody tr th {\n",
       "        vertical-align: top;\n",
       "    }\n",
       "\n",
       "    .dataframe thead th {\n",
       "        text-align: right;\n",
       "    }\n",
       "</style>\n",
       "<table border=\"1\" class=\"dataframe\">\n",
       "  <thead>\n",
       "    <tr style=\"text-align: right;\">\n",
       "      <th></th>\n",
       "      <th>id</th>\n",
       "      <th>amenities</th>\n",
       "    </tr>\n",
       "  </thead>\n",
       "  <tbody>\n",
       "    <tr>\n",
       "      <th>0</th>\n",
       "      <td>2318</td>\n",
       "      <td>[\"Children\\u2019s books and toys\", \"Iron\", \"Hangers\", \"Hair dryer\", \"Carbon monoxide alarm\", \"Luggage dropoff allowed\", \"Microwave\", \"Dishwasher\", \"Wifi\", \"Smoke alarm\", \"Refrigerator\", \"Kitchen\", \"Indoor fireplace\", \"Washer\", \"Dishes and silverware\", \"Stove\", \"Coffee maker\", \"Free street parking\", \"Cooking basics\", \"Shampoo\", \"Host greets you\", \"Laptop-friendly workspace\", \"Free parking on premises\", \"Oven\", \"First aid kit\", \"Hot water\", \"Fire extinguisher\", \"Garden or backyard\", \"Dryer\", \"High chair\", \"Long term stays allowed\", \"Patio or balcony\", \"Heating\", \"Pack \\u2019n Play/travel crib\", \"Essentials\", \"Lake access\"]</td>\n",
       "    </tr>\n",
       "    <tr>\n",
       "      <th>1</th>\n",
       "      <td>9419</td>\n",
       "      <td>[\"Iron\", \"Hangers\", \"Lock on bedroom door\", \"Hair dryer\", \"Carbon monoxide alarm\", \"Air conditioning\", \"Microwave\", \"Wifi\", \"Smoke alarm\", \"Extra pillows and blankets\", \"Refrigerator\", \"Kitchen\", \"Washer\", \"Private living room\", \"Dishes and silverware\", \"Stove\", \"Coffee maker\", \"Free street parking\", \"Cooking basics\", \"Shampoo\", \"Host greets you\", \"Laptop-friendly workspace\", \"Bed linens\", \"Free parking on premises\", \"Oven\", \"First aid kit\", \"Hot water\", \"Fire extinguisher\", \"Dryer\", \"Long term stays allowed\", \"Patio or balcony\", \"Heating\", \"Essentials\"]</td>\n",
       "    </tr>\n",
       "    <tr>\n",
       "      <th>2</th>\n",
       "      <td>9531</td>\n",
       "      <td>[\"Iron\", \"TV\", \"Hangers\", \"Cable TV\", \"Private entrance\", \"Hair dryer\", \"Carbon monoxide alarm\", \"Barbecue utensils\", \"Luggage dropoff allowed\", \"Microwave\", \"Dishwasher\", \"Wifi\", \"Smoke alarm\", \"Extra pillows and blankets\", \"Refrigerator\", \"Kitchen\", \"Indoor fireplace\", \"Washer\", \"Dishes and silverware\", \"Single level home\", \"Ethernet connection\", \"Stove\", \"Coffee maker\", \"Free street parking\", \"Cooking basics\", \"BBQ grill\", \"Shampoo\", \"Laptop-friendly workspace\", \"Bed linens\", \"Free parking on premises\", \"Oven\", \"First aid kit\", \"Hot water\", \"Fire extinguisher\", \"Garden or backyard\", \"Dryer\", \"Long term stays allowed\", \"Patio or balcony\", \"Heating\", \"Shower gel\", \"Essentials\", \"Baking sheet\"]</td>\n",
       "    </tr>\n",
       "    <tr>\n",
       "      <th>3</th>\n",
       "      <td>9534</td>\n",
       "      <td>[\"Conditioner\", \"Iron\", \"TV\", \"Hangers\", \"Cable TV\", \"Private entrance\", \"Hair dryer\", \"Carbon monoxide alarm\", \"Barbecue utensils\", \"Luggage dropoff allowed\", \"Microwave\", \"Wifi\", \"Smoke alarm\", \"Extra pillows and blankets\", \"Refrigerator\", \"Kitchen\", \"Indoor fireplace\", \"Washer\", \"Dishes and silverware\", \"Single level home\", \"Ethernet connection\", \"Stove\", \"Coffee maker\", \"Free street parking\", \"Cooking basics\", \"BBQ grill\", \"Shampoo\", \"Laptop-friendly workspace\", \"Bed linens\", \"Free parking on premises\", \"Freezer\", \"Portable fans\", \"Oven\", \"First aid kit\", \"Hot water\", \"Fire extinguisher\", \"Garden or backyard\", \"Dryer\", \"Long term stays allowed\", \"Body soap\", \"Patio or balcony\", \"Heating\", \"Shower gel\", \"Essentials\", \"Pour Over Coffee\", \"Baking sheet\"]</td>\n",
       "    </tr>\n",
       "    <tr>\n",
       "      <th>4</th>\n",
       "      <td>9596</td>\n",
       "      <td>[\"Iron\", \"TV\", \"Hangers\", \"Cable TV\", \"Hair dryer\", \"Carbon monoxide alarm\", \"Microwave\", \"Dishwasher\", \"Wifi\", \"Smoke alarm\", \"Refrigerator\", \"Kitchen\", \"Dishes and silverware\", \"Stove\", \"Coffee maker\", \"Free street parking\", \"Cooking basics\", \"BBQ grill\", \"Shampoo\", \"Laptop-friendly workspace\", \"Oven\", \"Fire extinguisher\", \"Smart lock\", \"Garden or backyard\", \"Patio or balcony\", \"Heating\", \"Essentials\"]</td>\n",
       "    </tr>\n",
       "    <tr>\n",
       "      <th>...</th>\n",
       "      <td>...</td>\n",
       "      <td>...</td>\n",
       "    </tr>\n",
       "    <tr>\n",
       "      <th>4330</th>\n",
       "      <td>46036925</td>\n",
       "      <td>[\"Hot water\", \"Wifi\", \"Shampoo\", \"Smoke alarm\", \"Fire extinguisher\", \"Laptop-friendly workspace\", \"Kitchen\", \"Hangers\", \"Heating\", \"Lock on bedroom door\", \"Essentials\", \"Lockbox\", \"Hair dryer\", \"Free parking on premises\"]</td>\n",
       "    </tr>\n",
       "    <tr>\n",
       "      <th>4331</th>\n",
       "      <td>46037073</td>\n",
       "      <td>[\"Hot water\", \"Wifi\", \"Shampoo\", \"Fire extinguisher\", \"Smoke alarm\", \"Laptop-friendly workspace\", \"Kitchen\", \"Hangers\", \"Heating\", \"Lock on bedroom door\", \"Essentials\", \"Lockbox\", \"Hair dryer\", \"Free parking on premises\"]</td>\n",
       "    </tr>\n",
       "    <tr>\n",
       "      <th>4332</th>\n",
       "      <td>46037172</td>\n",
       "      <td>[\"Hot water\", \"Wifi\", \"Shampoo\", \"Fire extinguisher\", \"Smoke alarm\", \"Laptop-friendly workspace\", \"Kitchen\", \"Long term stays allowed\", \"Hangers\", \"Heating\", \"Lock on bedroom door\", \"Essentials\", \"Lockbox\", \"Hair dryer\", \"Free parking on premises\"]</td>\n",
       "    </tr>\n",
       "    <tr>\n",
       "      <th>4333</th>\n",
       "      <td>46037518</td>\n",
       "      <td>[\"Hot water\", \"Wifi\", \"Shampoo\", \"Smoke alarm\", \"Fire extinguisher\", \"Laptop-friendly workspace\", \"Kitchen\", \"Hangers\", \"Heating\", \"Lock on bedroom door\", \"Essentials\", \"Lockbox\", \"Hair dryer\", \"Free parking on premises\"]</td>\n",
       "    </tr>\n",
       "    <tr>\n",
       "      <th>4334</th>\n",
       "      <td>46038266</td>\n",
       "      <td>[\"Wifi\", \"Breakfast\", \"Gym\", \"Shampoo\", \"Smoke alarm\", \"Dryer\", \"Laptop-friendly workspace\", \"Kitchen\", \"TV\", \"Hangers\", \"Heating\", \"Washer\", \"Essentials\", \"Free parking on premises\", \"Elevator\", \"Hot tub\", \"Carbon monoxide alarm\", \"First aid kit\"]</td>\n",
       "    </tr>\n",
       "  </tbody>\n",
       "</table>\n",
       "<p>4335 rows × 2 columns</p>\n",
       "</div>"
      ],
      "text/plain": [
       "            id  \\\n",
       "0         2318   \n",
       "1         9419   \n",
       "2         9531   \n",
       "3         9534   \n",
       "4         9596   \n",
       "...        ...   \n",
       "4330  46036925   \n",
       "4331  46037073   \n",
       "4332  46037172   \n",
       "4333  46037518   \n",
       "4334  46038266   \n",
       "\n",
       "                                                                                                                                                                                                                                                                                                                                                                                                                                                                                                                                                                                                                                                                                                                                                                                          amenities  \n",
       "0                                                                                                                                              [\"Children\\u2019s books and toys\", \"Iron\", \"Hangers\", \"Hair dryer\", \"Carbon monoxide alarm\", \"Luggage dropoff allowed\", \"Microwave\", \"Dishwasher\", \"Wifi\", \"Smoke alarm\", \"Refrigerator\", \"Kitchen\", \"Indoor fireplace\", \"Washer\", \"Dishes and silverware\", \"Stove\", \"Coffee maker\", \"Free street parking\", \"Cooking basics\", \"Shampoo\", \"Host greets you\", \"Laptop-friendly workspace\", \"Free parking on premises\", \"Oven\", \"First aid kit\", \"Hot water\", \"Fire extinguisher\", \"Garden or backyard\", \"Dryer\", \"High chair\", \"Long term stays allowed\", \"Patio or balcony\", \"Heating\", \"Pack \\u2019n Play/travel crib\", \"Essentials\", \"Lake access\"]  \n",
       "1                                                                                                                                                                                                                  [\"Iron\", \"Hangers\", \"Lock on bedroom door\", \"Hair dryer\", \"Carbon monoxide alarm\", \"Air conditioning\", \"Microwave\", \"Wifi\", \"Smoke alarm\", \"Extra pillows and blankets\", \"Refrigerator\", \"Kitchen\", \"Washer\", \"Private living room\", \"Dishes and silverware\", \"Stove\", \"Coffee maker\", \"Free street parking\", \"Cooking basics\", \"Shampoo\", \"Host greets you\", \"Laptop-friendly workspace\", \"Bed linens\", \"Free parking on premises\", \"Oven\", \"First aid kit\", \"Hot water\", \"Fire extinguisher\", \"Dryer\", \"Long term stays allowed\", \"Patio or balcony\", \"Heating\", \"Essentials\"]  \n",
       "2                                                                   [\"Iron\", \"TV\", \"Hangers\", \"Cable TV\", \"Private entrance\", \"Hair dryer\", \"Carbon monoxide alarm\", \"Barbecue utensils\", \"Luggage dropoff allowed\", \"Microwave\", \"Dishwasher\", \"Wifi\", \"Smoke alarm\", \"Extra pillows and blankets\", \"Refrigerator\", \"Kitchen\", \"Indoor fireplace\", \"Washer\", \"Dishes and silverware\", \"Single level home\", \"Ethernet connection\", \"Stove\", \"Coffee maker\", \"Free street parking\", \"Cooking basics\", \"BBQ grill\", \"Shampoo\", \"Laptop-friendly workspace\", \"Bed linens\", \"Free parking on premises\", \"Oven\", \"First aid kit\", \"Hot water\", \"Fire extinguisher\", \"Garden or backyard\", \"Dryer\", \"Long term stays allowed\", \"Patio or balcony\", \"Heating\", \"Shower gel\", \"Essentials\", \"Baking sheet\"]  \n",
       "3     [\"Conditioner\", \"Iron\", \"TV\", \"Hangers\", \"Cable TV\", \"Private entrance\", \"Hair dryer\", \"Carbon monoxide alarm\", \"Barbecue utensils\", \"Luggage dropoff allowed\", \"Microwave\", \"Wifi\", \"Smoke alarm\", \"Extra pillows and blankets\", \"Refrigerator\", \"Kitchen\", \"Indoor fireplace\", \"Washer\", \"Dishes and silverware\", \"Single level home\", \"Ethernet connection\", \"Stove\", \"Coffee maker\", \"Free street parking\", \"Cooking basics\", \"BBQ grill\", \"Shampoo\", \"Laptop-friendly workspace\", \"Bed linens\", \"Free parking on premises\", \"Freezer\", \"Portable fans\", \"Oven\", \"First aid kit\", \"Hot water\", \"Fire extinguisher\", \"Garden or backyard\", \"Dryer\", \"Long term stays allowed\", \"Body soap\", \"Patio or balcony\", \"Heating\", \"Shower gel\", \"Essentials\", \"Pour Over Coffee\", \"Baking sheet\"]  \n",
       "4                                                                                                                                                                                                                                                                                                                                                                           [\"Iron\", \"TV\", \"Hangers\", \"Cable TV\", \"Hair dryer\", \"Carbon monoxide alarm\", \"Microwave\", \"Dishwasher\", \"Wifi\", \"Smoke alarm\", \"Refrigerator\", \"Kitchen\", \"Dishes and silverware\", \"Stove\", \"Coffee maker\", \"Free street parking\", \"Cooking basics\", \"BBQ grill\", \"Shampoo\", \"Laptop-friendly workspace\", \"Oven\", \"Fire extinguisher\", \"Smart lock\", \"Garden or backyard\", \"Patio or balcony\", \"Heating\", \"Essentials\"]  \n",
       "...                                                                                                                                                                                                                                                                                                                                                                                                                                                                                                                                                                                                                                                                                                                                                                                             ...  \n",
       "4330                                                                                                                                                                                                                                                                                                                                                                                                                                                                                                                                                                  [\"Hot water\", \"Wifi\", \"Shampoo\", \"Smoke alarm\", \"Fire extinguisher\", \"Laptop-friendly workspace\", \"Kitchen\", \"Hangers\", \"Heating\", \"Lock on bedroom door\", \"Essentials\", \"Lockbox\", \"Hair dryer\", \"Free parking on premises\"]  \n",
       "4331                                                                                                                                                                                                                                                                                                                                                                                                                                                                                                                                                                  [\"Hot water\", \"Wifi\", \"Shampoo\", \"Fire extinguisher\", \"Smoke alarm\", \"Laptop-friendly workspace\", \"Kitchen\", \"Hangers\", \"Heating\", \"Lock on bedroom door\", \"Essentials\", \"Lockbox\", \"Hair dryer\", \"Free parking on premises\"]  \n",
       "4332                                                                                                                                                                                                                                                                                                                                                                                                                                                                                                                                       [\"Hot water\", \"Wifi\", \"Shampoo\", \"Fire extinguisher\", \"Smoke alarm\", \"Laptop-friendly workspace\", \"Kitchen\", \"Long term stays allowed\", \"Hangers\", \"Heating\", \"Lock on bedroom door\", \"Essentials\", \"Lockbox\", \"Hair dryer\", \"Free parking on premises\"]  \n",
       "4333                                                                                                                                                                                                                                                                                                                                                                                                                                                                                                                                                                  [\"Hot water\", \"Wifi\", \"Shampoo\", \"Smoke alarm\", \"Fire extinguisher\", \"Laptop-friendly workspace\", \"Kitchen\", \"Hangers\", \"Heating\", \"Lock on bedroom door\", \"Essentials\", \"Lockbox\", \"Hair dryer\", \"Free parking on premises\"]  \n",
       "4334                                                                                                                                                                                                                                                                                                                                                                                                                                                                                                                                       [\"Wifi\", \"Breakfast\", \"Gym\", \"Shampoo\", \"Smoke alarm\", \"Dryer\", \"Laptop-friendly workspace\", \"Kitchen\", \"TV\", \"Hangers\", \"Heating\", \"Washer\", \"Essentials\", \"Free parking on premises\", \"Elevator\", \"Hot tub\", \"Carbon monoxide alarm\", \"First aid kit\"]  \n",
       "\n",
       "[4335 rows x 2 columns]"
      ]
     },
     "execution_count": 5,
     "metadata": {},
     "output_type": "execute_result"
    }
   ],
   "source": [
    "pd.options.display.max_colwidth = 1000\n",
    "amenities_df[['id', 'amenities']]"
   ]
  },
  {
   "cell_type": "code",
   "execution_count": 6,
   "metadata": {},
   "outputs": [],
   "source": [
    "amenities_df['amenities'] = amenities_df['amenities'].replace({'\\[': '', '\\]': '', '\"':'', r'\\\\u2019': r\"'\", r\"\\\\u2013\":\"-\", r\"\\\\u00a0\":\"\"}, regex=True)\n",
    "amenities_df['amenities'] = amenities_df['amenities'].str.lower()\n",
    "amenities_df[\"amenities_tokens\"] = amenities_df[\"amenities\"].apply(getAmenitiesTokens )"
   ]
  },
  {
   "cell_type": "code",
   "execution_count": null,
   "metadata": {
    "scrolled": true
   },
   "outputs": [],
   "source": []
  },
  {
   "cell_type": "code",
   "execution_count": 7,
   "metadata": {},
   "outputs": [],
   "source": [
    "from nltk import FreqDist"
   ]
  },
  {
   "cell_type": "code",
   "execution_count": 8,
   "metadata": {},
   "outputs": [
    {
     "data": {
      "text/plain": [
       "0       None\n",
       "1       None\n",
       "2       None\n",
       "3       None\n",
       "4       None\n",
       "        ... \n",
       "4330    None\n",
       "4331    None\n",
       "4332    None\n",
       "4333    None\n",
       "4334    None\n",
       "Name: amenities_tokens, Length: 4335, dtype: object"
      ]
     },
     "execution_count": 8,
     "metadata": {},
     "output_type": "execute_result"
    }
   ],
   "source": [
    "def addToTokenFreqDist(cell_value, tokenDist):\n",
    "    tokenDist  = tokenDist.update(cell_value)\n",
    "            \n",
    "tokenDist = FreqDist()\n",
    "amenities_df ['amenities_tokens'].apply(addToTokenFreqDist, args=(tokenDist, )) \n"
   ]
  },
  {
   "cell_type": "code",
   "execution_count": null,
   "metadata": {},
   "outputs": [],
   "source": []
  },
  {
   "cell_type": "code",
   "execution_count": 9,
   "metadata": {},
   "outputs": [],
   "source": [
    "tokenDist_df = pd.DataFrame.from_dict(tokenDist, orient='index')\n",
    "tokenDist_df = tokenDist_df.reset_index()\n",
    "tokenDist_df.columns=['amenity_token', 'freq']\n"
   ]
  },
  {
   "cell_type": "code",
   "execution_count": 10,
   "metadata": {},
   "outputs": [],
   "source": [
    "#Convert some of \n",
    "tokenDist_df.loc[tokenDist_df['amenity_token'].str.contains('refrigerator'),'amenity_token'] = \"refrigerator\"\n",
    "tokenDist_df.loc[tokenDist_df['amenity_token'].str.contains('mini fridge'),'amenity_token'] = \"mini fridge\"\n",
    "\n",
    "\n",
    "tokenDist_df.loc[tokenDist_df['amenity_token'].str.contains('electric stove'),'amenity_token'] = 'electric stove'\n",
    "tokenDist_df.loc[tokenDist_df['amenity_token'].str.contains('induction stove'),'amenity_token'] = 'induction stove'\n",
    "tokenDist_df.loc[tokenDist_df['amenity_token'].str.contains('gas stove'),'amenity_token'] = 'gas stove'\n",
    "tokenDist_df.loc[tokenDist_df['amenity_token'].str.contains('stove'),'amenity_token'] = 'stove'\n",
    "\n",
    "tokenDist_df.loc[tokenDist_df['amenity_token'].str.contains('tv'),'amenity_token'] = 'tv'\n",
    "\n",
    "\n",
    "tokenDist_df.loc[tokenDist_df['amenity_token'].str.contains('electric oven'),'amenity_token'] = 'electric oven'\n",
    "tokenDist_df.loc[tokenDist_df['amenity_token'].str.contains('gas oven'),'amenity_token'] = 'gas oven'\n",
    "tokenDist_df.loc[tokenDist_df['amenity_token'].str.contains('induction oven'),'amenity_token'] = 'induction oven'\n",
    "tokenDist_df.loc[tokenDist_df['amenity_token'].str.contains('oven'),'amenity_token'] = 'oven'\n",
    "\n",
    "\n",
    "tokenDist_df.loc[tokenDist_df['amenity_token'].str.contains('shampoo'),'amenity_token'] = 'shampoo'\n",
    "tokenDist_df.loc[tokenDist_df['amenity_token'].str.contains('conditioner'),'amenity_token'] = 'conditioner'\n",
    "tokenDist_df.loc[(tokenDist_df['amenity_token'].str.contains('body soap')) | (tokenDist_df['amenity_token'].str.contains('body wash')) ,'amenity_token'] = 'body soap'\n",
    "tokenDist_df.loc[tokenDist_df['amenity_token'].str.contains('soap'),'amenity_token'] = 'soap'\n",
    "\n",
    "\n",
    "tokenDist_df.loc[tokenDist_df['amenity_token'].str.contains('paid parking'),'amenity_token'] = 'paid parking'\n",
    "tokenDist_df.loc[tokenDist_df['amenity_token'].str.contains('free parking'),'amenity_token'] = 'free parking'\n",
    "\n",
    "tokenDist_df.loc[(tokenDist_df['amenity_token'].str.contains('paid')) & ((tokenDist_df['amenity_token'].str.contains('parking')) | (tokenDist_df['amenity_token'].str.contains('carport')) ) ,'amenity_token'] = 'paid parking'\n",
    "tokenDist_df.loc[(tokenDist_df['amenity_token'].str.contains('free')) & ((tokenDist_df['amenity_token'].str.contains('parking')) | (tokenDist_df['amenity_token'].str.contains('carport')) ) ,'amenity_token'] = 'free parking'\n",
    "\n",
    "\n",
    "tokenDist_df.loc[tokenDist_df['amenity_token'].str.contains('sound system'),'amenity_token'] = 'sound system'\n",
    "\n",
    "tokenDist_df.loc[tokenDist_df['amenity_token'].str.contains('hot tub'),'amenity_token'] = 'hot tub'\n"
   ]
  },
  {
   "cell_type": "code",
   "execution_count": 11,
   "metadata": {},
   "outputs": [],
   "source": [
    "# combine the change amenities together\n",
    "tokenDist_df = tokenDist_df.groupby(['amenity_token']).agg(freq=('freq', 'sum'))\n",
    "tokenDist_df = tokenDist_df.sort_values(by=\"freq\", ascending=False)"
   ]
  },
  {
   "cell_type": "code",
   "execution_count": 12,
   "metadata": {},
   "outputs": [],
   "source": [
    "#create slider for this number of top Limit slider to 10 min and 50 max\n",
    "pd.options.display.max_rows = 590\n",
    "top_tokenDist_df = tokenDist_df.iloc[:50].copy().reset_index()\n",
    "top_tokenDist_df['amenity_token'] = top_tokenDist_df['amenity_token'].apply(lambda x : x.capitalize())"
   ]
  },
  {
   "cell_type": "code",
   "execution_count": null,
   "metadata": {
    "scrolled": true
   },
   "outputs": [],
   "source": []
  },
  {
   "cell_type": "code",
   "execution_count": 13,
   "metadata": {},
   "outputs": [
    {
     "ename": "NameError",
     "evalue": "name 'fig' is not defined",
     "output_type": "error",
     "traceback": [
      "\u001b[1;31m---------------------------------------------------------------------------\u001b[0m",
      "\u001b[1;31mNameError\u001b[0m                                 Traceback (most recent call last)",
      "\u001b[1;32m<ipython-input-13-b05298421082>\u001b[0m in \u001b[0;36m<module>\u001b[1;34m\u001b[0m\n\u001b[0;32m     33\u001b[0m \u001b[1;33m\u001b[0m\u001b[0m\n\u001b[0;32m     34\u001b[0m \u001b[1;33m\u001b[0m\u001b[0m\n\u001b[1;32m---> 35\u001b[1;33m \u001b[0mfig\u001b[0m\u001b[1;33m.\u001b[0m\u001b[0mshow\u001b[0m\u001b[1;33m(\u001b[0m\u001b[1;33m)\u001b[0m\u001b[1;33m\u001b[0m\u001b[1;33m\u001b[0m\u001b[0m\n\u001b[0m\u001b[0;32m     36\u001b[0m \u001b[1;33m\u001b[0m\u001b[0m\n\u001b[0;32m     37\u001b[0m app.layout = html.Div(children=[\n",
      "\u001b[1;31mNameError\u001b[0m: name 'fig' is not defined"
     ]
    }
   ],
   "source": [
    "import plotly.graph_objects as go\n",
    "import dash\n",
    "import dash_core_components as dcc\n",
    "import dash_html_components as html\n",
    "import plotly.graph_objs as go\n",
    "\n",
    "app = dash.Dash()\n",
    "\n",
    "data = [go.Bar(\n",
    "                    x=top_tokenDist_df.amenity_token,\n",
    "                    y=top_tokenDist_df.freq,\n",
    "                    text=top_tokenDist_df.freq,\n",
    "                    textposition='auto',\n",
    "                   \n",
    "                )]\n",
    "\n",
    "# fig = go.Figure([go.Bar(\n",
    "#                     x=top_tokenDist_df.amenity_token,\n",
    "#                     y=top_tokenDist_df.freq,\n",
    "#                     text=top_tokenDist_df.freq,\n",
    "#                     textposition='auto',\n",
    "                   \n",
    "#                 )])\n",
    "\n",
    "layout = go.Layout(\n",
    "            yaxis=dict(\n",
    "                autorange=True,\n",
    "                showgrid=False,\n",
    "                ticks='',\n",
    "                showticklabels=False\n",
    "    )\n",
    ")\n",
    "\n",
    "\n",
    "fig.show()\n",
    "\n",
    "app.layout = html.Div(children=[\n",
    "    dcc.Graph(figure = {'data':data, 'layout':layout})\n",
    "])\n",
    "\n",
    "\n",
    "if __name__ == '__main__':\n",
    "    app.run_server(debug=True)"
   ]
  },
  {
   "cell_type": "code",
   "execution_count": null,
   "metadata": {},
   "outputs": [],
   "source": [
    "import numpy as np\n",
    "amenities_mask = np.array(Image.open(\"assets/WordCloudMask.png\"))\n",
    "\n"
   ]
  },
  {
   "cell_type": "code",
   "execution_count": null,
   "metadata": {},
   "outputs": [],
   "source": [
    "dict(zip(top_tokenDist_df['amenity_token'], top_tokenDist_df['freq']))"
   ]
  },
  {
   "cell_type": "code",
   "execution_count": null,
   "metadata": {},
   "outputs": [],
   "source": [
    "wc = WordCloud(colormap = \"Accent\", background_color=\"black\", mask=amenities_mask)\n",
    "        \n",
    "wc.generate_from_frequencies(dict(zip(top_tokenDist_df['amenity_token'], top_tokenDist_df['freq'])))\n",
    "wc.to_file(\"assets/amenities_all.png\")\n",
    "fig, ax = plt.subplots(1, 1, figsize = (30, 30))\n",
    "plt.imshow(wc, interpolation=\"bilinear\")\n",
    "plt.axis(False)\n",
    "plt.show()  "
   ]
  },
  {
   "cell_type": "markdown",
   "metadata": {},
   "source": [
    "from wordcloud import WordCloud\n",
    "import base64\n",
    "from io import BytesIO\n",
    "\n",
    "di = {'abc':10, 'def': 20, 'ghi':2, 'jkl':55}\n",
    "wc = WordCloud().generate_from_frequencies(frequencies=di)\n",
    "wc_img = wc.to_image()\n",
    "with BytesIO() as buffer:\n",
    "    wc_img.save(buffer, 'png')\n",
    "    img2 = base64.b64encode(buffer.getvalue()).decode()\n",
    "\n",
    "app.layout = html.Div(children=[\n",
    "                    html.Img(src=\"data:image/png;base64,\" + img2)\n",
    "                ])      "
   ]
  },
  {
   "cell_type": "code",
   "execution_count": null,
   "metadata": {},
   "outputs": [],
   "source": [
    "amenities_df"
   ]
  },
  {
   "cell_type": "code",
   "execution_count": null,
   "metadata": {},
   "outputs": [],
   "source": [
    "amenities_df['neighbourhood_group_cleansed'].unique()"
   ]
  },
  {
   "cell_type": "code",
   "execution_count": null,
   "metadata": {},
   "outputs": [],
   "source": []
  }
 ],
 "metadata": {
  "kernelspec": {
   "display_name": "py_venv",
   "language": "python",
   "name": "py_venv"
  },
  "language_info": {
   "codemirror_mode": {
    "name": "ipython",
    "version": 3
   },
   "file_extension": ".py",
   "mimetype": "text/x-python",
   "name": "python",
   "nbconvert_exporter": "python",
   "pygments_lexer": "ipython3",
   "version": "3.7.7"
  },
  "toc": {
   "base_numbering": 1,
   "nav_menu": {},
   "number_sections": true,
   "sideBar": true,
   "skip_h1_title": false,
   "title_cell": "Table of Contents",
   "title_sidebar": "Contents",
   "toc_cell": false,
   "toc_position": {},
   "toc_section_display": true,
   "toc_window_display": false
  },
  "varInspector": {
   "cols": {
    "lenName": 16,
    "lenType": 16,
    "lenVar": 40
   },
   "kernels_config": {
    "python": {
     "delete_cmd_postfix": "",
     "delete_cmd_prefix": "del ",
     "library": "var_list.py",
     "varRefreshCmd": "print(var_dic_list())"
    },
    "r": {
     "delete_cmd_postfix": ") ",
     "delete_cmd_prefix": "rm(",
     "library": "var_list.r",
     "varRefreshCmd": "cat(var_dic_list()) "
    }
   },
   "types_to_exclude": [
    "module",
    "function",
    "builtin_function_or_method",
    "instance",
    "_Feature"
   ],
   "window_display": false
  }
 },
 "nbformat": 4,
 "nbformat_minor": 4
}
